{
 "cells": [
  {
   "cell_type": "code",
   "execution_count": 101,
   "metadata": {},
   "outputs": [],
   "source": [
    "import requests"
   ]
  },
  {
   "cell_type": "code",
   "execution_count": 102,
   "metadata": {},
   "outputs": [
    {
     "name": "stdout",
     "output_type": "stream",
     "text": [
      "Enter Location: singapore\n"
     ]
    }
   ],
   "source": [
    "placeName=input(\"Enter Location: \")"
   ]
  },
  {
   "cell_type": "code",
   "execution_count": 103,
   "metadata": {},
   "outputs": [],
   "source": [
    "weather=\"http://api.openweathermap.org/data/2.5/weather?q=%s&mode=html&units=metric&APPID=ad4a9fa289b339beaebe078f6f28a831\"%(placeName)"
   ]
  },
  {
   "cell_type": "code",
   "execution_count": 104,
   "metadata": {},
   "outputs": [],
   "source": [
    "respObj=requests.get(weather)"
   ]
  },
  {
   "cell_type": "code",
   "execution_count": 105,
   "metadata": {},
   "outputs": [],
   "source": [
    "beforehtml=respObj.text"
   ]
  },
  {
   "cell_type": "code",
   "execution_count": 106,
   "metadata": {},
   "outputs": [
    {
     "data": {
      "text/plain": [
       "'<!DOCTYPE html>\\n<html lang=\"en\">\\n<head>\\n  <meta charset=\"utf-8\">\\n  <meta name=\"keywords\" content=\"weather, world, openweathermap, weather, layer\" />\\n  <meta name=\"description\" content=\"A layer with current weather conditions in cities for world wide\" />\\n  <meta name=\"domain\" content=\"openweathermap.org\" />\\n  <meta http-equiv=\"pragma\" content=\"no-cache\" />\\n  <meta http-equiv=\"Expires\" content=\"-1\" />\\n</head>\\n<body>\\n  <div style=\"font-size: medium; font-weight: bold; margin-bottom: 0px;\">Singapore</div>\\n  <div style=\"float: left; width: 130px;\">\\n    <div style=\"display: block; clear: left;\">\\n      <div style=\"float: left;\" title=\"Titel\">\\n        <img height=\"45\" width=\"45\" style=\"border: medium none; width: 45px; height: 45px; background: url(&quot;http://openweathermap.org/img/w/09d.png&quot;) repeat scroll 0% 0% transparent;\" alt=\"title\" src=\"http://openweathermap.org/images/transparent.png\"/>\\n      </div>\\n      <div style=\"float: left;\">\\n        <div style=\"display: block; clear: left; font-size: medium; font-weight: bold; padding: 0pt 3pt;\" title=\"Current Temperature\">30.86°C</div>\\n        <div style=\"display: block; width: 85px; overflow: visible;\"></div>\\n      </div>\\n    </div>\\n    <div style=\"display: block; clear: left; font-size: small;\">Clouds: 40%</div>\\n    <div style=\"display: block; clear: left; color: gray; font-size: x-small;\" >Humidity: 66%</div>\\n    <div style=\"display: block; clear: left; color: gray; font-size: x-small;\" >Wind: 2.1 m/s</div>\\n    <div style=\"display: block; clear: left; color: gray; font-size: x-small;\" >Pressure: 1007hpa</div>\\n  </div>\\n  <div style=\"display: block; clear: left; color: gray; font-size: x-small;\">\\n    <a href=\"http://openweathermap.org/city/1880252?utm_source=openweathermap&utm_medium=widget&utm_campaign=html_old\" target=\"_blank\">More..</a>\\n  </div>\\n  <script>(function(i,s,o,g,r,a,m){i[\\'GoogleAnalyticsObject\\']=r;i[r]=i[r]||function(){\\n(i[r].q=i[r].q||[]).push(arguments)},i[r].l=1*new Date();a=s.createElement(o),\\nm=s.getElementsByTagName(o)[0];a.async=1;a.src=g;m.parentNode.insertBefore(a,m)\\n})(window,document,\\'script\\',\\'//www.google-analytics.com/analytics.js\\',\\'ga\\');ga(\\'create\\', \\'UA-31601618-9\\', \\'auto\\');ga(\\'send\\', \\'pageview\\');</script>\\n</body>\\n</html>'"
      ]
     },
     "execution_count": 106,
     "metadata": {},
     "output_type": "execute_result"
    }
   ],
   "source": [
    "beforehtml"
   ]
  },
  {
   "cell_type": "code",
   "execution_count": 107,
   "metadata": {},
   "outputs": [
    {
     "data": {
      "text/plain": [
       "['<!DOCTYPE html>',\n",
       " '<html lang=\"en\">',\n",
       " '<head>',\n",
       " '  <meta charset=\"utf-8\">',\n",
       " '  <meta name=\"keywords\" content=\"weather, world, openweathermap, weather, layer\" />',\n",
       " '  <meta name=\"description\" content=\"A layer with current weather conditions in cities for world wide\" />',\n",
       " '  <meta name=\"domain\" content=\"openweathermap.org\" />',\n",
       " '  <meta http-equiv=\"pragma\" content=\"no-cache\" />',\n",
       " '  <meta http-equiv=\"Expires\" content=\"-1\" />',\n",
       " '</head>',\n",
       " '<body>',\n",
       " '  <div style=\"font-size: medium; font-weight: bold; margin-bottom: 0px;\">Singapore</div>',\n",
       " '  <div style=\"float: left; width: 130px;\">',\n",
       " '    <div style=\"display: block; clear: left;\">',\n",
       " '      <div style=\"float: left;\" title=\"Titel\">',\n",
       " '        <img height=\"45\" width=\"45\" style=\"border: medium none; width: 45px; height: 45px; background: url(&quot;http://openweathermap.org/img/w/09d.png&quot;) repeat scroll 0% 0% transparent;\" alt=\"title\" src=\"http://openweathermap.org/images/transparent.png\"/>',\n",
       " '      </div>',\n",
       " '      <div style=\"float: left;\">',\n",
       " '        <div style=\"display: block; clear: left; font-size: medium; font-weight: bold; padding: 0pt 3pt;\" title=\"Current Temperature\">30.86°C</div>',\n",
       " '        <div style=\"display: block; width: 85px; overflow: visible;\"></div>',\n",
       " '      </div>',\n",
       " '    </div>',\n",
       " '    <div style=\"display: block; clear: left; font-size: small;\">Clouds: 40%</div>',\n",
       " '    <div style=\"display: block; clear: left; color: gray; font-size: x-small;\" >Humidity: 66%</div>',\n",
       " '    <div style=\"display: block; clear: left; color: gray; font-size: x-small;\" >Wind: 2.1 m/s</div>',\n",
       " '    <div style=\"display: block; clear: left; color: gray; font-size: x-small;\" >Pressure: 1007hpa</div>',\n",
       " '  </div>',\n",
       " '  <div style=\"display: block; clear: left; color: gray; font-size: x-small;\">',\n",
       " '    <a href=\"http://openweathermap.org/city/1880252?utm_source=openweathermap&utm_medium=widget&utm_campaign=html_old\" target=\"_blank\">More..</a>',\n",
       " '  </div>',\n",
       " \"  <script>(function(i,s,o,g,r,a,m){i['GoogleAnalyticsObject']=r;i[r]=i[r]||function(){\",\n",
       " '(i[r].q=i[r].q||[]).push(arguments)},i[r].l=1*new Date();a=s.createElement(o),',\n",
       " 'm=s.getElementsByTagName(o)[0];a.async=1;a.src=g;m.parentNode.insertBefore(a,m)',\n",
       " \"})(window,document,'script','//www.google-analytics.com/analytics.js','ga');ga('create', 'UA-31601618-9', 'auto');ga('send', 'pageview');</script>\",\n",
       " '</body>',\n",
       " '</html>']"
      ]
     },
     "execution_count": 107,
     "metadata": {},
     "output_type": "execute_result"
    }
   ],
   "source": [
    "beforehtml.split(\"\\n\")"
   ]
  },
  {
   "cell_type": "code",
   "execution_count": 108,
   "metadata": {},
   "outputs": [
    {
     "data": {
      "text/plain": [
       "36"
      ]
     },
     "execution_count": 108,
     "metadata": {},
     "output_type": "execute_result"
    }
   ],
   "source": [
    "len(beforehtml.split(\"\\n\"))"
   ]
  },
  {
   "cell_type": "code",
   "execution_count": 109,
   "metadata": {},
   "outputs": [],
   "source": [
    "beforeremove=beforehtml.split(\"\\n\")"
   ]
  },
  {
   "cell_type": "code",
   "execution_count": 110,
   "metadata": {},
   "outputs": [
    {
     "data": {
      "text/plain": [
       "list"
      ]
     },
     "execution_count": 110,
     "metadata": {},
     "output_type": "execute_result"
    }
   ],
   "source": [
    "type(beforeremove)"
   ]
  },
  {
   "cell_type": "code",
   "execution_count": 112,
   "metadata": {},
   "outputs": [],
   "source": [
    "del beforeremove[27:34]"
   ]
  },
  {
   "cell_type": "code",
   "execution_count": 114,
   "metadata": {},
   "outputs": [
    {
     "data": {
      "text/plain": [
       "['<!DOCTYPE html>',\n",
       " '<html lang=\"en\">',\n",
       " '<head>',\n",
       " '  <meta charset=\"utf-8\">',\n",
       " '  <meta name=\"keywords\" content=\"weather, world, openweathermap, weather, layer\" />',\n",
       " '  <meta name=\"description\" content=\"A layer with current weather conditions in cities for world wide\" />',\n",
       " '  <meta name=\"domain\" content=\"openweathermap.org\" />',\n",
       " '  <meta http-equiv=\"pragma\" content=\"no-cache\" />',\n",
       " '  <meta http-equiv=\"Expires\" content=\"-1\" />',\n",
       " '</head>',\n",
       " '<body>',\n",
       " '  <div style=\"font-size: medium; font-weight: bold; margin-bottom: 0px;\">Singapore</div>',\n",
       " '  <div style=\"float: left; width: 130px;\">',\n",
       " '    <div style=\"display: block; clear: left;\">',\n",
       " '      <div style=\"float: left;\" title=\"Titel\">',\n",
       " '        <img height=\"45\" width=\"45\" style=\"border: medium none; width: 45px; height: 45px; background: url(&quot;http://openweathermap.org/img/w/09d.png&quot;) repeat scroll 0% 0% transparent;\" alt=\"title\" src=\"http://openweathermap.org/images/transparent.png\"/>',\n",
       " '      </div>',\n",
       " '      <div style=\"float: left;\">',\n",
       " '        <div style=\"display: block; clear: left; font-size: medium; font-weight: bold; padding: 0pt 3pt;\" title=\"Current Temperature\">30.86°C</div>',\n",
       " '        <div style=\"display: block; width: 85px; overflow: visible;\"></div>',\n",
       " '      </div>',\n",
       " '    </div>',\n",
       " '    <div style=\"display: block; clear: left; font-size: small;\">Clouds: 40%</div>',\n",
       " '    <div style=\"display: block; clear: left; color: gray; font-size: x-small;\" >Humidity: 66%</div>',\n",
       " '    <div style=\"display: block; clear: left; color: gray; font-size: x-small;\" >Wind: 2.1 m/s</div>',\n",
       " '    <div style=\"display: block; clear: left; color: gray; font-size: x-small;\" >Pressure: 1007hpa</div>',\n",
       " '  </div>',\n",
       " '</body>',\n",
       " '</html>']"
      ]
     },
     "execution_count": 114,
     "metadata": {},
     "output_type": "execute_result"
    }
   ],
   "source": [
    "beforeremove"
   ]
  },
  {
   "cell_type": "code",
   "execution_count": null,
   "metadata": {},
   "outputs": [],
   "source": []
  }
 ],
 "metadata": {
  "kernelspec": {
   "display_name": "Python 3",
   "language": "python",
   "name": "python3"
  },
  "language_info": {
   "codemirror_mode": {
    "name": "ipython",
    "version": 3
   },
   "file_extension": ".py",
   "mimetype": "text/x-python",
   "name": "python",
   "nbconvert_exporter": "python",
   "pygments_lexer": "ipython3",
   "version": "3.7.6"
  }
 },
 "nbformat": 4,
 "nbformat_minor": 4
}
