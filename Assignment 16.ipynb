{
 "cells": [
  {
   "cell_type": "code",
   "execution_count": 46,
   "metadata": {},
   "outputs": [],
   "source": [
    "import requests"
   ]
  },
  {
   "cell_type": "code",
   "execution_count": 47,
   "metadata": {},
   "outputs": [
    {
     "name": "stdout",
     "output_type": "stream",
     "text": [
      "Enter Location: singapore\n"
     ]
    }
   ],
   "source": [
    "placeName=input(\"Enter Location: \")"
   ]
  },
  {
   "cell_type": "code",
   "execution_count": 48,
   "metadata": {},
   "outputs": [],
   "source": [
    "weather=\"http://api.openweathermap.org/data/2.5/forecast/?q=%s&cnt=5&mode=json&units=metric&APPID=ad4a9fa289b339beaebe078f6f28a831\"%(placeName)"
   ]
  },
  {
   "cell_type": "code",
   "execution_count": 49,
   "metadata": {},
   "outputs": [],
   "source": [
    "respObj=requests.get(weather)"
   ]
  },
  {
   "cell_type": "code",
   "execution_count": 50,
   "metadata": {},
   "outputs": [],
   "source": [
    "beforejson=respObj.text"
   ]
  },
  {
   "cell_type": "code",
   "execution_count": 51,
   "metadata": {},
   "outputs": [],
   "source": [
    "import json"
   ]
  },
  {
   "cell_type": "code",
   "execution_count": 52,
   "metadata": {},
   "outputs": [],
   "source": [
    "afterjson=json.loads(beforejson)"
   ]
  },
  {
   "cell_type": "code",
   "execution_count": 53,
   "metadata": {},
   "outputs": [
    {
     "data": {
      "text/plain": [
       "dict"
      ]
     },
     "execution_count": 53,
     "metadata": {},
     "output_type": "execute_result"
    }
   ],
   "source": [
    "type(afterjson)"
   ]
  },
  {
   "cell_type": "code",
   "execution_count": 54,
   "metadata": {},
   "outputs": [
    {
     "data": {
      "text/plain": [
       "{'cod': '200',\n",
       " 'message': 0,\n",
       " 'cnt': 5,\n",
       " 'list': [{'dt': 1587632400,\n",
       "   'main': {'temp': 29.69,\n",
       "    'feels_like': 34.65,\n",
       "    'temp_min': 29.69,\n",
       "    'temp_max': 30.34,\n",
       "    'pressure': 1006,\n",
       "    'sea_level': 1006,\n",
       "    'grnd_level': 1004,\n",
       "    'humidity': 73,\n",
       "    'temp_kf': -0.65},\n",
       "   'weather': [{'id': 500,\n",
       "     'main': 'Rain',\n",
       "     'description': 'light rain',\n",
       "     'icon': '10d'}],\n",
       "   'clouds': {'all': 78},\n",
       "   'wind': {'speed': 1.5, 'deg': 52},\n",
       "   'rain': {'3h': 2.38},\n",
       "   'sys': {'pod': 'd'},\n",
       "   'dt_txt': '2020-04-23 09:00:00'},\n",
       "  {'dt': 1587643200,\n",
       "   'main': {'temp': 27.67,\n",
       "    'feels_like': 31.92,\n",
       "    'temp_min': 27.67,\n",
       "    'temp_max': 27.94,\n",
       "    'pressure': 1008,\n",
       "    'sea_level': 1008,\n",
       "    'grnd_level': 1005,\n",
       "    'humidity': 80,\n",
       "    'temp_kf': -0.27},\n",
       "   'weather': [{'id': 500,\n",
       "     'main': 'Rain',\n",
       "     'description': 'light rain',\n",
       "     'icon': '10n'}],\n",
       "   'clouds': {'all': 90},\n",
       "   'wind': {'speed': 2.16, 'deg': 50},\n",
       "   'rain': {'3h': 1.88},\n",
       "   'sys': {'pod': 'n'},\n",
       "   'dt_txt': '2020-04-23 12:00:00'},\n",
       "  {'dt': 1587654000,\n",
       "   'main': {'temp': 27.26,\n",
       "    'feels_like': 31.54,\n",
       "    'temp_min': 27.26,\n",
       "    'temp_max': 27.34,\n",
       "    'pressure': 1010,\n",
       "    'sea_level': 1010,\n",
       "    'grnd_level': 1008,\n",
       "    'humidity': 81,\n",
       "    'temp_kf': -0.08},\n",
       "   'weather': [{'id': 500,\n",
       "     'main': 'Rain',\n",
       "     'description': 'light rain',\n",
       "     'icon': '10n'}],\n",
       "   'clouds': {'all': 97},\n",
       "   'wind': {'speed': 1.95, 'deg': 32},\n",
       "   'rain': {'3h': 0.39},\n",
       "   'sys': {'pod': 'n'},\n",
       "   'dt_txt': '2020-04-23 15:00:00'},\n",
       "  {'dt': 1587664800,\n",
       "   'main': {'temp': 26.85,\n",
       "    'feels_like': 30.89,\n",
       "    'temp_min': 26.85,\n",
       "    'temp_max': 26.86,\n",
       "    'pressure': 1008,\n",
       "    'sea_level': 1008,\n",
       "    'grnd_level': 1006,\n",
       "    'humidity': 82,\n",
       "    'temp_kf': -0.01},\n",
       "   'weather': [{'id': 500,\n",
       "     'main': 'Rain',\n",
       "     'description': 'light rain',\n",
       "     'icon': '10n'}],\n",
       "   'clouds': {'all': 96},\n",
       "   'wind': {'speed': 2.13, 'deg': 22},\n",
       "   'rain': {'3h': 1.37},\n",
       "   'sys': {'pod': 'n'},\n",
       "   'dt_txt': '2020-04-23 18:00:00'},\n",
       "  {'dt': 1587675600,\n",
       "   'main': {'temp': 26.38,\n",
       "    'feels_like': 30.31,\n",
       "    'temp_min': 26.38,\n",
       "    'temp_max': 26.38,\n",
       "    'pressure': 1007,\n",
       "    'sea_level': 1007,\n",
       "    'grnd_level': 1005,\n",
       "    'humidity': 83,\n",
       "    'temp_kf': 0},\n",
       "   'weather': [{'id': 501,\n",
       "     'main': 'Rain',\n",
       "     'description': 'moderate rain',\n",
       "     'icon': '10n'}],\n",
       "   'clouds': {'all': 100},\n",
       "   'wind': {'speed': 2.08, 'deg': 10},\n",
       "   'rain': {'3h': 4.85},\n",
       "   'sys': {'pod': 'n'},\n",
       "   'dt_txt': '2020-04-23 21:00:00'}],\n",
       " 'city': {'id': 1880252,\n",
       "  'name': 'Singapore',\n",
       "  'coord': {'lat': 1.2897, 'lon': 103.8501},\n",
       "  'country': 'SG',\n",
       "  'population': 3547809,\n",
       "  'timezone': 28800,\n",
       "  'sunrise': 1587596290,\n",
       "  'sunset': 1587640037}}"
      ]
     },
     "execution_count": 54,
     "metadata": {},
     "output_type": "execute_result"
    }
   ],
   "source": [
    "afterjson"
   ]
  },
  {
   "cell_type": "code",
   "execution_count": 57,
   "metadata": {},
   "outputs": [
    {
     "data": {
      "text/plain": [
       "5"
      ]
     },
     "execution_count": 57,
     "metadata": {},
     "output_type": "execute_result"
    }
   ],
   "source": [
    "len(afterjson.get('list'))"
   ]
  },
  {
   "cell_type": "code",
   "execution_count": 76,
   "metadata": {},
   "outputs": [
    {
     "data": {
      "text/plain": [
       "{'id': 500, 'main': 'Rain', 'description': 'light rain', 'icon': '10d'}"
      ]
     },
     "execution_count": 76,
     "metadata": {},
     "output_type": "execute_result"
    }
   ],
   "source": [
    "afterjson.get('list')[0].get('weather')[0]"
   ]
  },
  {
   "cell_type": "code",
   "execution_count": 77,
   "metadata": {},
   "outputs": [
    {
     "data": {
      "text/plain": [
       "'light rain'"
      ]
     },
     "execution_count": 77,
     "metadata": {},
     "output_type": "execute_result"
    }
   ],
   "source": [
    "afterjson.get('list')[0].get('weather')[0].get('description',\"Not Available\")"
   ]
  },
  {
   "cell_type": "code",
   "execution_count": 80,
   "metadata": {},
   "outputs": [
    {
     "name": "stdout",
     "output_type": "stream",
     "text": [
      "\n",
      "Min Temp : 29.69 \t Max Temp : 30.34 \t Description : light rain \t\n",
      "\n",
      "Min Temp : 27.67 \t Max Temp : 27.94 \t Description : light rain \t\n",
      "\n",
      "Min Temp : 27.26 \t Max Temp : 27.34 \t Description : light rain \t\n",
      "\n",
      "Min Temp : 26.85 \t Max Temp : 26.86 \t Description : light rain \t\n",
      "\n",
      "Min Temp : 26.38 \t Max Temp : 26.38 \t Description : moderate rain \t\n"
     ]
    }
   ],
   "source": [
    "for everyday in afterjson.get('list'):\n",
    "    print(\"\"\"\n",
    "Min Temp : %s \\t Max Temp : %s \\t Description : %s \\t\"\"\"%(everyday.get('main').get('temp_min'),everyday.get('main').get('temp_max'),everyday.get('weather')[0].get('description',\"Not Available\")))"
   ]
  },
  {
   "cell_type": "code",
   "execution_count": null,
   "metadata": {},
   "outputs": [],
   "source": []
  }
 ],
 "metadata": {
  "kernelspec": {
   "display_name": "Python 3",
   "language": "python",
   "name": "python3"
  },
  "language_info": {
   "codemirror_mode": {
    "name": "ipython",
    "version": 3
   },
   "file_extension": ".py",
   "mimetype": "text/x-python",
   "name": "python",
   "nbconvert_exporter": "python",
   "pygments_lexer": "ipython3",
   "version": "3.7.6"
  }
 },
 "nbformat": 4,
 "nbformat_minor": 4
}
